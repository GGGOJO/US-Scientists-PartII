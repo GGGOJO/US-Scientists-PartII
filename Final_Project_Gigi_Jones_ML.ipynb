{
 "cells": [
  {
   "cell_type": "markdown",
   "id": "1aaf4888",
   "metadata": {},
   "source": [
    "# Machine Learning: Multiple Regression"
   ]
  },
  {
   "cell_type": "code",
   "execution_count": 1,
   "id": "6641f3c6",
   "metadata": {},
   "outputs": [],
   "source": [
    "import pandas as pd\n",
    "import numpy as np\n",
    "import seaborn as sns\n",
    "import matplotlib.pyplot as plt\n",
    "import pickle\n",
    "import requests\n",
    "import json\n",
    "from sklearn.datasets import make_regression\n",
    "from sklearn.linear_model import LinearRegression\n",
    "from sklearn.model_selection import train_test_split\n",
    "from sklearn.preprocessing import StandardScaler"
   ]
  },
  {
   "cell_type": "code",
   "execution_count": 2,
   "id": "fb8d7bf8",
   "metadata": {},
   "outputs": [
    {
     "data": {
      "text/plain": [
       "<bound method NDFrame.head of         AGE  ASDGRI  CLIC  CTZN  GENDER  MRDG  NBAMEMG  NDGMEMG  N2OCPRMG  \\\n",
       "0      36.0       0     0     1       0     2        1        1         1   \n",
       "1      38.0       1     1     1       1     2        4        7         7   \n",
       "2      42.0       0     0     1       0     2        4        7         7   \n",
       "3      48.0       0     0     1       1     1        2        2         2   \n",
       "4      37.0       0     1     1       1     4        4        7         7   \n",
       "...     ...     ...   ...   ...     ...   ...      ...      ...       ...   \n",
       "73624  28.0       0     0     1       1     1        7        7         7   \n",
       "73625  54.0       0     0     1       0     1        4        4         7   \n",
       "73626  26.0       0     0     1       1     1        2        2         3   \n",
       "73627  33.0       0     0     1       1     2        2        6         6   \n",
       "73628  57.0       1     0     1       0     2        4        7         7   \n",
       "\n",
       "       RACETHM    SALARY  SALARYG  AGEG  \n",
       "0            3   50000.0        4     3  \n",
       "1            5   24000.0        2     3  \n",
       "2            4  200000.0        8     4  \n",
       "3            5   38147.0        3     4  \n",
       "4            1   70000.0        5     3  \n",
       "...        ...       ...      ...   ...  \n",
       "73624        1   52000.0        4     2  \n",
       "73625        5    4750.0        1     5  \n",
       "73626        5   42000.0        3     2  \n",
       "73627        5   59000.0        4     3  \n",
       "73628        7    2500.0        1     5  \n",
       "\n",
       "[73629 rows x 13 columns]>"
      ]
     },
     "execution_count": 2,
     "metadata": {},
     "output_type": "execute_result"
    }
   ],
   "source": [
    "ML_df = pd.read_csv(\"NSCG_clean_encoded.csv\")\n",
    "ML_df.head"
   ]
  },
  {
   "cell_type": "code",
   "execution_count": 3,
   "id": "c466f7ee",
   "metadata": {},
   "outputs": [
    {
     "data": {
      "text/html": [
       "<style  type=\"text/css\" >\n",
       "#T_c4fee_row0_col0,#T_c4fee_row1_col1,#T_c4fee_row2_col2,#T_c4fee_row3_col3,#T_c4fee_row4_col4,#T_c4fee_row5_col5,#T_c4fee_row6_col6,#T_c4fee_row7_col7,#T_c4fee_row8_col8,#T_c4fee_row9_col9,#T_c4fee_row10_col10,#T_c4fee_row11_col11,#T_c4fee_row12_col12{\n",
       "            background-color:  #053061;\n",
       "            color:  #f1f1f1;\n",
       "        }#T_c4fee_row0_col1,#T_c4fee_row1_col0,#T_c4fee_row1_col12,#T_c4fee_row2_col9,#T_c4fee_row8_col9,#T_c4fee_row9_col2,#T_c4fee_row9_col8,#T_c4fee_row12_col1{\n",
       "            background-color:  #e6eff4;\n",
       "            color:  #000000;\n",
       "        }#T_c4fee_row0_col2,#T_c4fee_row0_col8,#T_c4fee_row2_col0,#T_c4fee_row2_col12,#T_c4fee_row6_col9,#T_c4fee_row8_col0,#T_c4fee_row8_col12,#T_c4fee_row9_col6,#T_c4fee_row12_col2,#T_c4fee_row12_col8{\n",
       "            background-color:  #e7f0f4;\n",
       "            color:  #000000;\n",
       "        }#T_c4fee_row0_col3,#T_c4fee_row3_col0,#T_c4fee_row8_col10,#T_c4fee_row10_col8{\n",
       "            background-color:  #f9ebe3;\n",
       "            color:  #000000;\n",
       "        }#T_c4fee_row0_col4,#T_c4fee_row3_col6,#T_c4fee_row4_col0,#T_c4fee_row4_col12,#T_c4fee_row5_col6,#T_c4fee_row6_col3,#T_c4fee_row6_col5,#T_c4fee_row12_col4{\n",
       "            background-color:  #faeae1;\n",
       "            color:  #000000;\n",
       "        }#T_c4fee_row0_col5,#T_c4fee_row0_col11,#T_c4fee_row5_col0,#T_c4fee_row11_col0{\n",
       "            background-color:  #e1edf3;\n",
       "            color:  #000000;\n",
       "        }#T_c4fee_row0_col6,#T_c4fee_row6_col0,#T_c4fee_row6_col12,#T_c4fee_row12_col6{\n",
       "            background-color:  #eaf1f5;\n",
       "            color:  #000000;\n",
       "        }#T_c4fee_row0_col7,#T_c4fee_row0_col9,#T_c4fee_row1_col6,#T_c4fee_row6_col1,#T_c4fee_row7_col0,#T_c4fee_row7_col12,#T_c4fee_row9_col0,#T_c4fee_row9_col12,#T_c4fee_row12_col7,#T_c4fee_row12_col9{\n",
       "            background-color:  #e9f0f4;\n",
       "            color:  #000000;\n",
       "        }#T_c4fee_row0_col10,#T_c4fee_row10_col0,#T_c4fee_row10_col12,#T_c4fee_row12_col10{\n",
       "            background-color:  #dae9f2;\n",
       "            color:  #000000;\n",
       "        }#T_c4fee_row0_col12,#T_c4fee_row12_col0{\n",
       "            background-color:  #08366a;\n",
       "            color:  #f1f1f1;\n",
       "        }#T_c4fee_row1_col2,#T_c4fee_row2_col1{\n",
       "            background-color:  #f0f4f6;\n",
       "            color:  #000000;\n",
       "        }#T_c4fee_row1_col3,#T_c4fee_row3_col1{\n",
       "            background-color:  #f8f3f0;\n",
       "            color:  #000000;\n",
       "        }#T_c4fee_row1_col4,#T_c4fee_row4_col1{\n",
       "            background-color:  #f5f6f7;\n",
       "            color:  #000000;\n",
       "        }#T_c4fee_row1_col5,#T_c4fee_row5_col1{\n",
       "            background-color:  #fbe6da;\n",
       "            color:  #000000;\n",
       "        }#T_c4fee_row1_col7,#T_c4fee_row7_col1{\n",
       "            background-color:  #eff3f5;\n",
       "            color:  #000000;\n",
       "        }#T_c4fee_row1_col8,#T_c4fee_row3_col10,#T_c4fee_row8_col1,#T_c4fee_row10_col3{\n",
       "            background-color:  #edf2f5;\n",
       "            color:  #000000;\n",
       "        }#T_c4fee_row1_col9,#T_c4fee_row4_col5,#T_c4fee_row5_col4,#T_c4fee_row9_col1{\n",
       "            background-color:  #f2f5f6;\n",
       "            color:  #000000;\n",
       "        }#T_c4fee_row1_col10,#T_c4fee_row1_col11,#T_c4fee_row3_col12,#T_c4fee_row10_col1,#T_c4fee_row11_col1,#T_c4fee_row12_col3{\n",
       "            background-color:  #f9ede5;\n",
       "            color:  #000000;\n",
       "        }#T_c4fee_row2_col3,#T_c4fee_row3_col2{\n",
       "            background-color:  #fbe5d8;\n",
       "            color:  #000000;\n",
       "        }#T_c4fee_row2_col4,#T_c4fee_row4_col2,#T_c4fee_row11_col12,#T_c4fee_row12_col11{\n",
       "            background-color:  #deebf2;\n",
       "            color:  #000000;\n",
       "        }#T_c4fee_row2_col5,#T_c4fee_row3_col5,#T_c4fee_row5_col2,#T_c4fee_row5_col3,#T_c4fee_row5_col12,#T_c4fee_row12_col5{\n",
       "            background-color:  #e0ecf3;\n",
       "            color:  #000000;\n",
       "        }#T_c4fee_row2_col6,#T_c4fee_row4_col7,#T_c4fee_row6_col2,#T_c4fee_row7_col4,#T_c4fee_row7_col9,#T_c4fee_row9_col7{\n",
       "            background-color:  #e4eef4;\n",
       "            color:  #000000;\n",
       "        }#T_c4fee_row2_col7,#T_c4fee_row7_col2{\n",
       "            background-color:  #d4e6f1;\n",
       "            color:  #000000;\n",
       "        }#T_c4fee_row2_col8,#T_c4fee_row8_col2{\n",
       "            background-color:  #d5e7f1;\n",
       "            color:  #000000;\n",
       "        }#T_c4fee_row2_col10,#T_c4fee_row10_col2{\n",
       "            background-color:  #f7f6f6;\n",
       "            color:  #000000;\n",
       "        }#T_c4fee_row2_col11,#T_c4fee_row7_col10,#T_c4fee_row10_col7,#T_c4fee_row11_col2{\n",
       "            background-color:  #f8f4f2;\n",
       "            color:  #000000;\n",
       "        }#T_c4fee_row3_col4,#T_c4fee_row4_col3,#T_c4fee_row6_col11,#T_c4fee_row11_col6{\n",
       "            background-color:  #f9eee7;\n",
       "            color:  #000000;\n",
       "        }#T_c4fee_row3_col7,#T_c4fee_row7_col3{\n",
       "            background-color:  #fbe3d4;\n",
       "            color:  #000000;\n",
       "        }#T_c4fee_row3_col8,#T_c4fee_row8_col3,#T_c4fee_row8_col11,#T_c4fee_row11_col8{\n",
       "            background-color:  #fddcc9;\n",
       "            color:  #000000;\n",
       "        }#T_c4fee_row3_col9,#T_c4fee_row9_col3{\n",
       "            background-color:  #e58368;\n",
       "            color:  #000000;\n",
       "        }#T_c4fee_row3_col11,#T_c4fee_row4_col6,#T_c4fee_row6_col4,#T_c4fee_row11_col3{\n",
       "            background-color:  #ecf2f5;\n",
       "            color:  #000000;\n",
       "        }#T_c4fee_row4_col8,#T_c4fee_row8_col4{\n",
       "            background-color:  #d8e9f1;\n",
       "            color:  #000000;\n",
       "        }#T_c4fee_row4_col9,#T_c4fee_row9_col4{\n",
       "            background-color:  #f6f7f7;\n",
       "            color:  #000000;\n",
       "        }#T_c4fee_row4_col10,#T_c4fee_row10_col4{\n",
       "            background-color:  #fcd7c2;\n",
       "            color:  #000000;\n",
       "        }#T_c4fee_row4_col11,#T_c4fee_row11_col4{\n",
       "            background-color:  #fbccb4;\n",
       "            color:  #000000;\n",
       "        }#T_c4fee_row5_col7,#T_c4fee_row7_col5{\n",
       "            background-color:  #e3edf3;\n",
       "            color:  #000000;\n",
       "        }#T_c4fee_row5_col8,#T_c4fee_row7_col11,#T_c4fee_row8_col5,#T_c4fee_row9_col10,#T_c4fee_row10_col9,#T_c4fee_row11_col7{\n",
       "            background-color:  #f8f1ed;\n",
       "            color:  #000000;\n",
       "        }#T_c4fee_row5_col9,#T_c4fee_row9_col5{\n",
       "            background-color:  #f9f0eb;\n",
       "            color:  #000000;\n",
       "        }#T_c4fee_row5_col10,#T_c4fee_row10_col5{\n",
       "            background-color:  #d2e6f0;\n",
       "            color:  #000000;\n",
       "        }#T_c4fee_row5_col11,#T_c4fee_row11_col5{\n",
       "            background-color:  #d7e8f1;\n",
       "            color:  #000000;\n",
       "        }#T_c4fee_row6_col7,#T_c4fee_row7_col6{\n",
       "            background-color:  #327cb7;\n",
       "            color:  #000000;\n",
       "        }#T_c4fee_row6_col8,#T_c4fee_row8_col6{\n",
       "            background-color:  #b3d6e8;\n",
       "            color:  #000000;\n",
       "        }#T_c4fee_row6_col10,#T_c4fee_row9_col11,#T_c4fee_row10_col6,#T_c4fee_row11_col9{\n",
       "            background-color:  #f9efe9;\n",
       "            color:  #000000;\n",
       "        }#T_c4fee_row7_col8,#T_c4fee_row8_col7{\n",
       "            background-color:  #96c7df;\n",
       "            color:  #000000;\n",
       "        }#T_c4fee_row10_col11,#T_c4fee_row11_col10{\n",
       "            background-color:  #2b73b3;\n",
       "            color:  #000000;\n",
       "        }</style><table id=\"T_c4fee_\" ><thead>    <tr>        <th class=\"blank level0\" ></th>        <th class=\"col_heading level0 col0\" >AGE</th>        <th class=\"col_heading level0 col1\" >ASDGRI</th>        <th class=\"col_heading level0 col2\" >CLIC</th>        <th class=\"col_heading level0 col3\" >CTZN</th>        <th class=\"col_heading level0 col4\" >GENDER</th>        <th class=\"col_heading level0 col5\" >MRDG</th>        <th class=\"col_heading level0 col6\" >NBAMEMG</th>        <th class=\"col_heading level0 col7\" >NDGMEMG</th>        <th class=\"col_heading level0 col8\" >N2OCPRMG</th>        <th class=\"col_heading level0 col9\" >RACETHM</th>        <th class=\"col_heading level0 col10\" >SALARY</th>        <th class=\"col_heading level0 col11\" >SALARYG</th>        <th class=\"col_heading level0 col12\" >AGEG</th>    </tr></thead><tbody>\n",
       "                <tr>\n",
       "                        <th id=\"T_c4fee_level0_row0\" class=\"row_heading level0 row0\" >AGE</th>\n",
       "                        <td id=\"T_c4fee_row0_col0\" class=\"data row0 col0\" >1.000000</td>\n",
       "                        <td id=\"T_c4fee_row0_col1\" class=\"data row0 col1\" >0.091008</td>\n",
       "                        <td id=\"T_c4fee_row0_col2\" class=\"data row0 col2\" >0.081292</td>\n",
       "                        <td id=\"T_c4fee_row0_col3\" class=\"data row0 col3\" >-0.080807</td>\n",
       "                        <td id=\"T_c4fee_row0_col4\" class=\"data row0 col4\" >-0.091979</td>\n",
       "                        <td id=\"T_c4fee_row0_col5\" class=\"data row0 col5\" >0.112143</td>\n",
       "                        <td id=\"T_c4fee_row0_col6\" class=\"data row0 col6\" >0.066251</td>\n",
       "                        <td id=\"T_c4fee_row0_col7\" class=\"data row0 col7\" >0.070653</td>\n",
       "                        <td id=\"T_c4fee_row0_col8\" class=\"data row0 col8\" >0.084702</td>\n",
       "                        <td id=\"T_c4fee_row0_col9\" class=\"data row0 col9\" >0.075328</td>\n",
       "                        <td id=\"T_c4fee_row0_col10\" class=\"data row0 col10\" >0.149206</td>\n",
       "                        <td id=\"T_c4fee_row0_col11\" class=\"data row0 col11\" >0.113721</td>\n",
       "                        <td id=\"T_c4fee_row0_col12\" class=\"data row0 col12\" >0.970451</td>\n",
       "            </tr>\n",
       "            <tr>\n",
       "                        <th id=\"T_c4fee_level0_row1\" class=\"row_heading level0 row1\" >ASDGRI</th>\n",
       "                        <td id=\"T_c4fee_row1_col0\" class=\"data row1 col0\" >0.091008</td>\n",
       "                        <td id=\"T_c4fee_row1_col1\" class=\"data row1 col1\" >1.000000</td>\n",
       "                        <td id=\"T_c4fee_row1_col2\" class=\"data row1 col2\" >0.034605</td>\n",
       "                        <td id=\"T_c4fee_row1_col3\" class=\"data row1 col3\" >-0.023812</td>\n",
       "                        <td id=\"T_c4fee_row1_col4\" class=\"data row1 col4\" >0.013505</td>\n",
       "                        <td id=\"T_c4fee_row1_col5\" class=\"data row1 col5\" >-0.123716</td>\n",
       "                        <td id=\"T_c4fee_row1_col6\" class=\"data row1 col6\" >0.075135</td>\n",
       "                        <td id=\"T_c4fee_row1_col7\" class=\"data row1 col7\" >0.041015</td>\n",
       "                        <td id=\"T_c4fee_row1_col8\" class=\"data row1 col8\" >0.053261</td>\n",
       "                        <td id=\"T_c4fee_row1_col9\" class=\"data row1 col9\" >0.025502</td>\n",
       "                        <td id=\"T_c4fee_row1_col10\" class=\"data row1 col10\" >-0.072557</td>\n",
       "                        <td id=\"T_c4fee_row1_col11\" class=\"data row1 col11\" >-0.077921</td>\n",
       "                        <td id=\"T_c4fee_row1_col12\" class=\"data row1 col12\" >0.089407</td>\n",
       "            </tr>\n",
       "            <tr>\n",
       "                        <th id=\"T_c4fee_level0_row2\" class=\"row_heading level0 row2\" >CLIC</th>\n",
       "                        <td id=\"T_c4fee_row2_col0\" class=\"data row2 col0\" >0.081292</td>\n",
       "                        <td id=\"T_c4fee_row2_col1\" class=\"data row2 col1\" >0.034605</td>\n",
       "                        <td id=\"T_c4fee_row2_col2\" class=\"data row2 col2\" >1.000000</td>\n",
       "                        <td id=\"T_c4fee_row2_col3\" class=\"data row2 col3\" >-0.131011</td>\n",
       "                        <td id=\"T_c4fee_row2_col4\" class=\"data row2 col4\" >0.130223</td>\n",
       "                        <td id=\"T_c4fee_row2_col5\" class=\"data row2 col5\" >0.123275</td>\n",
       "                        <td id=\"T_c4fee_row2_col6\" class=\"data row2 col6\" >0.093929</td>\n",
       "                        <td id=\"T_c4fee_row2_col7\" class=\"data row2 col7\" >0.182434</td>\n",
       "                        <td id=\"T_c4fee_row2_col8\" class=\"data row2 col8\" >0.175809</td>\n",
       "                        <td id=\"T_c4fee_row2_col9\" class=\"data row2 col9\" >0.092588</td>\n",
       "                        <td id=\"T_c4fee_row2_col10\" class=\"data row2 col10\" >-0.003391</td>\n",
       "                        <td id=\"T_c4fee_row2_col11\" class=\"data row2 col11\" >-0.020723</td>\n",
       "                        <td id=\"T_c4fee_row2_col12\" class=\"data row2 col12\" >0.085576</td>\n",
       "            </tr>\n",
       "            <tr>\n",
       "                        <th id=\"T_c4fee_level0_row3\" class=\"row_heading level0 row3\" >CTZN</th>\n",
       "                        <td id=\"T_c4fee_row3_col0\" class=\"data row3 col0\" >-0.080807</td>\n",
       "                        <td id=\"T_c4fee_row3_col1\" class=\"data row3 col1\" >-0.023812</td>\n",
       "                        <td id=\"T_c4fee_row3_col2\" class=\"data row3 col2\" >-0.131011</td>\n",
       "                        <td id=\"T_c4fee_row3_col3\" class=\"data row3 col3\" >1.000000</td>\n",
       "                        <td id=\"T_c4fee_row3_col4\" class=\"data row3 col4\" >-0.069619</td>\n",
       "                        <td id=\"T_c4fee_row3_col5\" class=\"data row3 col5\" >0.120903</td>\n",
       "                        <td id=\"T_c4fee_row3_col6\" class=\"data row3 col6\" >-0.086027</td>\n",
       "                        <td id=\"T_c4fee_row3_col7\" class=\"data row3 col7\" >-0.144383</td>\n",
       "                        <td id=\"T_c4fee_row3_col8\" class=\"data row3 col8\" >-0.188345</td>\n",
       "                        <td id=\"T_c4fee_row3_col9\" class=\"data row3 col9\" >-0.494057</td>\n",
       "                        <td id=\"T_c4fee_row3_col10\" class=\"data row3 col10\" >0.053462</td>\n",
       "                        <td id=\"T_c4fee_row3_col11\" class=\"data row3 col11\" >0.057878</td>\n",
       "                        <td id=\"T_c4fee_row3_col12\" class=\"data row3 col12\" >-0.071599</td>\n",
       "            </tr>\n",
       "            <tr>\n",
       "                        <th id=\"T_c4fee_level0_row4\" class=\"row_heading level0 row4\" >GENDER</th>\n",
       "                        <td id=\"T_c4fee_row4_col0\" class=\"data row4 col0\" >-0.091979</td>\n",
       "                        <td id=\"T_c4fee_row4_col1\" class=\"data row4 col1\" >0.013505</td>\n",
       "                        <td id=\"T_c4fee_row4_col2\" class=\"data row4 col2\" >0.130223</td>\n",
       "                        <td id=\"T_c4fee_row4_col3\" class=\"data row4 col3\" >-0.069619</td>\n",
       "                        <td id=\"T_c4fee_row4_col4\" class=\"data row4 col4\" >1.000000</td>\n",
       "                        <td id=\"T_c4fee_row4_col5\" class=\"data row4 col5\" >0.029515</td>\n",
       "                        <td id=\"T_c4fee_row4_col6\" class=\"data row4 col6\" >0.061415</td>\n",
       "                        <td id=\"T_c4fee_row4_col7\" class=\"data row4 col7\" >0.096622</td>\n",
       "                        <td id=\"T_c4fee_row4_col8\" class=\"data row4 col8\" >0.162084</td>\n",
       "                        <td id=\"T_c4fee_row4_col9\" class=\"data row4 col9\" >0.001456</td>\n",
       "                        <td id=\"T_c4fee_row4_col10\" class=\"data row4 col10\" >-0.213667</td>\n",
       "                        <td id=\"T_c4fee_row4_col11\" class=\"data row4 col11\" >-0.256402</td>\n",
       "                        <td id=\"T_c4fee_row4_col12\" class=\"data row4 col12\" >-0.091463</td>\n",
       "            </tr>\n",
       "            <tr>\n",
       "                        <th id=\"T_c4fee_level0_row5\" class=\"row_heading level0 row5\" >MRDG</th>\n",
       "                        <td id=\"T_c4fee_row5_col0\" class=\"data row5 col0\" >0.112143</td>\n",
       "                        <td id=\"T_c4fee_row5_col1\" class=\"data row5 col1\" >-0.123716</td>\n",
       "                        <td id=\"T_c4fee_row5_col2\" class=\"data row5 col2\" >0.123275</td>\n",
       "                        <td id=\"T_c4fee_row5_col3\" class=\"data row5 col3\" >0.120903</td>\n",
       "                        <td id=\"T_c4fee_row5_col4\" class=\"data row5 col4\" >0.029515</td>\n",
       "                        <td id=\"T_c4fee_row5_col5\" class=\"data row5 col5\" >1.000000</td>\n",
       "                        <td id=\"T_c4fee_row5_col6\" class=\"data row5 col6\" >-0.092006</td>\n",
       "                        <td id=\"T_c4fee_row5_col7\" class=\"data row5 col7\" >0.103670</td>\n",
       "                        <td id=\"T_c4fee_row5_col8\" class=\"data row5 col8\" >-0.046098</td>\n",
       "                        <td id=\"T_c4fee_row5_col9\" class=\"data row5 col9\" >-0.053513</td>\n",
       "                        <td id=\"T_c4fee_row5_col10\" class=\"data row5 col10\" >0.190466</td>\n",
       "                        <td id=\"T_c4fee_row5_col11\" class=\"data row5 col11\" >0.168997</td>\n",
       "                        <td id=\"T_c4fee_row5_col12\" class=\"data row5 col12\" >0.124255</td>\n",
       "            </tr>\n",
       "            <tr>\n",
       "                        <th id=\"T_c4fee_level0_row6\" class=\"row_heading level0 row6\" >NBAMEMG</th>\n",
       "                        <td id=\"T_c4fee_row6_col0\" class=\"data row6 col0\" >0.066251</td>\n",
       "                        <td id=\"T_c4fee_row6_col1\" class=\"data row6 col1\" >0.075135</td>\n",
       "                        <td id=\"T_c4fee_row6_col2\" class=\"data row6 col2\" >0.093929</td>\n",
       "                        <td id=\"T_c4fee_row6_col3\" class=\"data row6 col3\" >-0.086027</td>\n",
       "                        <td id=\"T_c4fee_row6_col4\" class=\"data row6 col4\" >0.061415</td>\n",
       "                        <td id=\"T_c4fee_row6_col5\" class=\"data row6 col5\" >-0.092006</td>\n",
       "                        <td id=\"T_c4fee_row6_col6\" class=\"data row6 col6\" >1.000000</td>\n",
       "                        <td id=\"T_c4fee_row6_col7\" class=\"data row6 col7\" >0.695565</td>\n",
       "                        <td id=\"T_c4fee_row6_col8\" class=\"data row6 col8\" >0.296531</td>\n",
       "                        <td id=\"T_c4fee_row6_col9\" class=\"data row6 col9\" >0.078817</td>\n",
       "                        <td id=\"T_c4fee_row6_col10\" class=\"data row6 col10\" >-0.058215</td>\n",
       "                        <td id=\"T_c4fee_row6_col11\" class=\"data row6 col11\" >-0.065134</td>\n",
       "                        <td id=\"T_c4fee_row6_col12\" class=\"data row6 col12\" >0.064577</td>\n",
       "            </tr>\n",
       "            <tr>\n",
       "                        <th id=\"T_c4fee_level0_row7\" class=\"row_heading level0 row7\" >NDGMEMG</th>\n",
       "                        <td id=\"T_c4fee_row7_col0\" class=\"data row7 col0\" >0.070653</td>\n",
       "                        <td id=\"T_c4fee_row7_col1\" class=\"data row7 col1\" >0.041015</td>\n",
       "                        <td id=\"T_c4fee_row7_col2\" class=\"data row7 col2\" >0.182434</td>\n",
       "                        <td id=\"T_c4fee_row7_col3\" class=\"data row7 col3\" >-0.144383</td>\n",
       "                        <td id=\"T_c4fee_row7_col4\" class=\"data row7 col4\" >0.096622</td>\n",
       "                        <td id=\"T_c4fee_row7_col5\" class=\"data row7 col5\" >0.103670</td>\n",
       "                        <td id=\"T_c4fee_row7_col6\" class=\"data row7 col6\" >0.695565</td>\n",
       "                        <td id=\"T_c4fee_row7_col7\" class=\"data row7 col7\" >1.000000</td>\n",
       "                        <td id=\"T_c4fee_row7_col8\" class=\"data row7 col8\" >0.388832</td>\n",
       "                        <td id=\"T_c4fee_row7_col9\" class=\"data row7 col9\" >0.094871</td>\n",
       "                        <td id=\"T_c4fee_row7_col10\" class=\"data row7 col10\" >-0.015986</td>\n",
       "                        <td id=\"T_c4fee_row7_col11\" class=\"data row7 col11\" >-0.040015</td>\n",
       "                        <td id=\"T_c4fee_row7_col12\" class=\"data row7 col12\" >0.072406</td>\n",
       "            </tr>\n",
       "            <tr>\n",
       "                        <th id=\"T_c4fee_level0_row8\" class=\"row_heading level0 row8\" >N2OCPRMG</th>\n",
       "                        <td id=\"T_c4fee_row8_col0\" class=\"data row8 col0\" >0.084702</td>\n",
       "                        <td id=\"T_c4fee_row8_col1\" class=\"data row8 col1\" >0.053261</td>\n",
       "                        <td id=\"T_c4fee_row8_col2\" class=\"data row8 col2\" >0.175809</td>\n",
       "                        <td id=\"T_c4fee_row8_col3\" class=\"data row8 col3\" >-0.188345</td>\n",
       "                        <td id=\"T_c4fee_row8_col4\" class=\"data row8 col4\" >0.162084</td>\n",
       "                        <td id=\"T_c4fee_row8_col5\" class=\"data row8 col5\" >-0.046098</td>\n",
       "                        <td id=\"T_c4fee_row8_col6\" class=\"data row8 col6\" >0.296531</td>\n",
       "                        <td id=\"T_c4fee_row8_col7\" class=\"data row8 col7\" >0.388832</td>\n",
       "                        <td id=\"T_c4fee_row8_col8\" class=\"data row8 col8\" >1.000000</td>\n",
       "                        <td id=\"T_c4fee_row8_col9\" class=\"data row8 col9\" >0.086757</td>\n",
       "                        <td id=\"T_c4fee_row8_col10\" class=\"data row8 col10\" >-0.083084</td>\n",
       "                        <td id=\"T_c4fee_row8_col11\" class=\"data row8 col11\" >-0.191133</td>\n",
       "                        <td id=\"T_c4fee_row8_col12\" class=\"data row8 col12\" >0.080353</td>\n",
       "            </tr>\n",
       "            <tr>\n",
       "                        <th id=\"T_c4fee_level0_row9\" class=\"row_heading level0 row9\" >RACETHM</th>\n",
       "                        <td id=\"T_c4fee_row9_col0\" class=\"data row9 col0\" >0.075328</td>\n",
       "                        <td id=\"T_c4fee_row9_col1\" class=\"data row9 col1\" >0.025502</td>\n",
       "                        <td id=\"T_c4fee_row9_col2\" class=\"data row9 col2\" >0.092588</td>\n",
       "                        <td id=\"T_c4fee_row9_col3\" class=\"data row9 col3\" >-0.494057</td>\n",
       "                        <td id=\"T_c4fee_row9_col4\" class=\"data row9 col4\" >0.001456</td>\n",
       "                        <td id=\"T_c4fee_row9_col5\" class=\"data row9 col5\" >-0.053513</td>\n",
       "                        <td id=\"T_c4fee_row9_col6\" class=\"data row9 col6\" >0.078817</td>\n",
       "                        <td id=\"T_c4fee_row9_col7\" class=\"data row9 col7\" >0.094871</td>\n",
       "                        <td id=\"T_c4fee_row9_col8\" class=\"data row9 col8\" >0.086757</td>\n",
       "                        <td id=\"T_c4fee_row9_col9\" class=\"data row9 col9\" >1.000000</td>\n",
       "                        <td id=\"T_c4fee_row9_col10\" class=\"data row9 col10\" >-0.043790</td>\n",
       "                        <td id=\"T_c4fee_row9_col11\" class=\"data row9 col11\" >-0.056907</td>\n",
       "                        <td id=\"T_c4fee_row9_col12\" class=\"data row9 col12\" >0.073026</td>\n",
       "            </tr>\n",
       "            <tr>\n",
       "                        <th id=\"T_c4fee_level0_row10\" class=\"row_heading level0 row10\" >SALARY</th>\n",
       "                        <td id=\"T_c4fee_row10_col0\" class=\"data row10 col0\" >0.149206</td>\n",
       "                        <td id=\"T_c4fee_row10_col1\" class=\"data row10 col1\" >-0.072557</td>\n",
       "                        <td id=\"T_c4fee_row10_col2\" class=\"data row10 col2\" >-0.003391</td>\n",
       "                        <td id=\"T_c4fee_row10_col3\" class=\"data row10 col3\" >0.053462</td>\n",
       "                        <td id=\"T_c4fee_row10_col4\" class=\"data row10 col4\" >-0.213667</td>\n",
       "                        <td id=\"T_c4fee_row10_col5\" class=\"data row10 col5\" >0.190466</td>\n",
       "                        <td id=\"T_c4fee_row10_col6\" class=\"data row10 col6\" >-0.058215</td>\n",
       "                        <td id=\"T_c4fee_row10_col7\" class=\"data row10 col7\" >-0.015986</td>\n",
       "                        <td id=\"T_c4fee_row10_col8\" class=\"data row10 col8\" >-0.083084</td>\n",
       "                        <td id=\"T_c4fee_row10_col9\" class=\"data row10 col9\" >-0.043790</td>\n",
       "                        <td id=\"T_c4fee_row10_col10\" class=\"data row10 col10\" >1.000000</td>\n",
       "                        <td id=\"T_c4fee_row10_col11\" class=\"data row10 col11\" >0.735309</td>\n",
       "                        <td id=\"T_c4fee_row10_col12\" class=\"data row10 col12\" >0.154783</td>\n",
       "            </tr>\n",
       "            <tr>\n",
       "                        <th id=\"T_c4fee_level0_row11\" class=\"row_heading level0 row11\" >SALARYG</th>\n",
       "                        <td id=\"T_c4fee_row11_col0\" class=\"data row11 col0\" >0.113721</td>\n",
       "                        <td id=\"T_c4fee_row11_col1\" class=\"data row11 col1\" >-0.077921</td>\n",
       "                        <td id=\"T_c4fee_row11_col2\" class=\"data row11 col2\" >-0.020723</td>\n",
       "                        <td id=\"T_c4fee_row11_col3\" class=\"data row11 col3\" >0.057878</td>\n",
       "                        <td id=\"T_c4fee_row11_col4\" class=\"data row11 col4\" >-0.256402</td>\n",
       "                        <td id=\"T_c4fee_row11_col5\" class=\"data row11 col5\" >0.168997</td>\n",
       "                        <td id=\"T_c4fee_row11_col6\" class=\"data row11 col6\" >-0.065134</td>\n",
       "                        <td id=\"T_c4fee_row11_col7\" class=\"data row11 col7\" >-0.040015</td>\n",
       "                        <td id=\"T_c4fee_row11_col8\" class=\"data row11 col8\" >-0.191133</td>\n",
       "                        <td id=\"T_c4fee_row11_col9\" class=\"data row11 col9\" >-0.056907</td>\n",
       "                        <td id=\"T_c4fee_row11_col10\" class=\"data row11 col10\" >0.735309</td>\n",
       "                        <td id=\"T_c4fee_row11_col11\" class=\"data row11 col11\" >1.000000</td>\n",
       "                        <td id=\"T_c4fee_row11_col12\" class=\"data row11 col12\" >0.126565</td>\n",
       "            </tr>\n",
       "            <tr>\n",
       "                        <th id=\"T_c4fee_level0_row12\" class=\"row_heading level0 row12\" >AGEG</th>\n",
       "                        <td id=\"T_c4fee_row12_col0\" class=\"data row12 col0\" >0.970451</td>\n",
       "                        <td id=\"T_c4fee_row12_col1\" class=\"data row12 col1\" >0.089407</td>\n",
       "                        <td id=\"T_c4fee_row12_col2\" class=\"data row12 col2\" >0.085576</td>\n",
       "                        <td id=\"T_c4fee_row12_col3\" class=\"data row12 col3\" >-0.071599</td>\n",
       "                        <td id=\"T_c4fee_row12_col4\" class=\"data row12 col4\" >-0.091463</td>\n",
       "                        <td id=\"T_c4fee_row12_col5\" class=\"data row12 col5\" >0.124255</td>\n",
       "                        <td id=\"T_c4fee_row12_col6\" class=\"data row12 col6\" >0.064577</td>\n",
       "                        <td id=\"T_c4fee_row12_col7\" class=\"data row12 col7\" >0.072406</td>\n",
       "                        <td id=\"T_c4fee_row12_col8\" class=\"data row12 col8\" >0.080353</td>\n",
       "                        <td id=\"T_c4fee_row12_col9\" class=\"data row12 col9\" >0.073026</td>\n",
       "                        <td id=\"T_c4fee_row12_col10\" class=\"data row12 col10\" >0.154783</td>\n",
       "                        <td id=\"T_c4fee_row12_col11\" class=\"data row12 col11\" >0.126565</td>\n",
       "                        <td id=\"T_c4fee_row12_col12\" class=\"data row12 col12\" >1.000000</td>\n",
       "            </tr>\n",
       "    </tbody></table>"
      ],
      "text/plain": [
       "<pandas.io.formats.style.Styler at 0x104b32610>"
      ]
     },
     "execution_count": 3,
     "metadata": {},
     "output_type": "execute_result"
    }
   ],
   "source": [
    "ML_df.corr().style.background_gradient(cmap='RdBu', vmin=-1, vmax=1)"
   ]
  },
  {
   "cell_type": "code",
   "execution_count": 4,
   "id": "9a630792",
   "metadata": {},
   "outputs": [
    {
     "name": "stdout",
     "output_type": "stream",
     "text": [
      "(73629, 8) (73629,)\n"
     ]
    }
   ],
   "source": [
    "X = ML_df[[\"AGE\", \"CTZN\", \"GENDER\",\"ASDGRI\", \"CLIC\", \"MRDG\", \"N2OCPRMG\", \"RACETHM\"]]\n",
    "y = ML_df[\"SALARY\"]\n",
    "print(X.shape, y.shape)\n",
    "# y"
   ]
  },
  {
   "cell_type": "code",
   "execution_count": 5,
   "id": "24fbe585",
   "metadata": {},
   "outputs": [],
   "source": [
    "# Use train_test_split to create training and testing data\n",
    "\n",
    "X_train, X_test, y_train, y_test = train_test_split(X, y, random_state=0)"
   ]
  },
  {
   "cell_type": "code",
   "execution_count": 6,
   "id": "1a606f88",
   "metadata": {},
   "outputs": [
    {
     "data": {
      "text/plain": [
       "LinearRegression()"
      ]
     },
     "execution_count": 6,
     "metadata": {},
     "output_type": "execute_result"
    }
   ],
   "source": [
    "regressor = LinearRegression()\n",
    "regressor.fit(X_train, y_train)"
   ]
  },
  {
   "cell_type": "code",
   "execution_count": 16,
   "id": "830143ed",
   "metadata": {},
   "outputs": [
    {
     "name": "stdout",
     "output_type": "stream",
     "text": [
      "(73629,)\n"
     ]
    }
   ],
   "source": [
    "y_pred = regressor.predict(X_test)\n",
    "print(y_pred.shape)"
   ]
  },
  {
   "cell_type": "code",
   "execution_count": 18,
   "id": "44af0a90",
   "metadata": {},
   "outputs": [
    {
     "name": "stdout",
     "output_type": "stream",
     "text": [
      "[   663.78532362    337.8053183  -27591.51335976 -10842.31369226\n",
      "    568.99100145  15296.65313524  -1548.67537272  -1538.44744631]\n",
      "64338.834598266556\n"
     ]
    }
   ],
   "source": [
    "print(model.coef_)\n",
    "print(model.intercept_)"
   ]
  },
  {
   "cell_type": "code",
   "execution_count": 10,
   "id": "aacdc095",
   "metadata": {},
   "outputs": [],
   "source": [
    "pickle.dump(regressor, open('salary_model.pkl', 'wb'))"
   ]
  },
  {
   "cell_type": "code",
   "execution_count": 23,
   "id": "6a6fd2af",
   "metadata": {},
   "outputs": [
    {
     "name": "stdout",
     "output_type": "stream",
     "text": [
      "[74589.58861487]\n"
     ]
    }
   ],
   "source": [
    "model = pickle.load(open('salary_model.pkl', 'rb'))\n",
    "print(model.predict([[24, 2, 0, 1,0,1,4,3]]))"
   ]
  },
  {
   "cell_type": "code",
   "execution_count": 21,
   "id": "37c236f8",
   "metadata": {},
   "outputs": [
    {
     "data": {
      "text/plain": [
       "'/Users/gigijones/miniforge3/lib/python3.8/site-packages/sklearn/linear_model/__init__.py'"
      ]
     },
     "execution_count": 21,
     "metadata": {},
     "output_type": "execute_result"
    }
   ],
   "source": [
    "import sklearn.linear_model\n",
    "sklearn.linear_model.__file__"
   ]
  },
  {
   "cell_type": "code",
   "execution_count": 24,
   "id": "9763659d",
   "metadata": {},
   "outputs": [
    {
     "name": "stdout",
     "output_type": "stream",
     "text": [
      "/Users/gigijones/Documents/Berkeley Data Analytics/1_Lecture/Week23_FinalProject\r\n"
     ]
    }
   ],
   "source": [
    "!pwd"
   ]
  },
  {
   "cell_type": "code",
   "execution_count": null,
   "id": "d17c289d",
   "metadata": {},
   "outputs": [],
   "source": []
  },
  {
   "cell_type": "code",
   "execution_count": null,
   "id": "360f4ca0",
   "metadata": {},
   "outputs": [],
   "source": []
  }
 ],
 "metadata": {
  "kernelspec": {
   "display_name": "Python 3",
   "language": "python",
   "name": "python3"
  },
  "language_info": {
   "codemirror_mode": {
    "name": "ipython",
    "version": 3
   },
   "file_extension": ".py",
   "mimetype": "text/x-python",
   "name": "python",
   "nbconvert_exporter": "python",
   "pygments_lexer": "ipython3",
   "version": "3.8.8"
  }
 },
 "nbformat": 4,
 "nbformat_minor": 5
}
